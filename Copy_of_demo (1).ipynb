{
  "cells": [
    {
      "cell_type": "code",
      "execution_count": 125,
      "id": "1773109b",
      "metadata": {
        "colab": {
          "base_uri": "https://localhost:8080/"
        },
        "id": "1773109b",
        "outputId": "15b67659-dc87-48b7-a4a7-fe2b402e0b21"
      },
      "outputs": [
        {
          "name": "stdout",
          "output_type": "stream",
          "text": [
            "Using existing MovieLens dataset from movielens-100k-dataset folder\n",
            "Dataset files are already available in the workspace\n"
          ]
        }
      ],
      "source": [
        "# For Python 3.13 compatibility, we'll skip opendatasets and use the existing dataset\n",
        "# The MovieLens dataset is already available in the movielens-100k-dataset folder\n",
        "import os\n",
        "print(\"Using existing MovieLens dataset from movielens-100k-dataset folder\")\n",
        "print(\"Dataset files are already available in the workspace\")"
      ]
    },
    {
      "cell_type": "code",
      "execution_count": 126,
      "id": "IaW6HfqN0Bnc",
      "metadata": {
        "id": "IaW6HfqN0Bnc"
      },
      "outputs": [],
      "source": [
        "#from google.colab import drive\n",
        "#drive.mount('/content/drive')"
      ]
    },
    {
      "cell_type": "code",
      "execution_count": 127,
      "id": "694a425b",
      "metadata": {
        "id": "694a425b"
      },
      "outputs": [],
      "source": [
        "import os   # Used to read the images path from the directory\n",
        "import re\n",
        "\n",
        "# Data handling\n",
        "import pandas as pd # Used to read/create dataframes (csv) and process tabular data\n",
        "import numpy as np  # preprocessing and numerical/mathematical operations\n",
        "\n",
        "# Visualization\n",
        "import matplotlib.pyplot as plt # Used for visualizing the images and plotting the training progress\n",
        "import seaborn as sns\n",
        "\n",
        "# Preprocessing & similarity\n",
        "from sklearn.feature_extraction.text import TfidfVectorizer\n",
        "from sklearn.metrics.pairwise import cosine_similarity\n",
        "from sklearn.preprocessing import MinMaxScaler"
      ]
    },
    {
      "cell_type": "code",
      "execution_count": 128,
      "id": "98b8de7f",
      "metadata": {
        "id": "98b8de7f"
      },
      "outputs": [
        {
          "name": "stdout",
          "output_type": "stream",
          "text": [
            "Base directory: movielens-100k-dataset\\ml-100k\n",
            "Ratings file: movielens-100k-dataset\\ml-100k\\u.data\n",
            "Movies file: movielens-100k-dataset\\ml-100k\\u.item\n",
            "Users file: movielens-100k-dataset\\ml-100k\\u.user\n"
          ]
        }
      ],
      "source": [
        "# Use relative paths for the local dataset\n",
        "base_dir = os.path.join('movielens-100k-dataset','ml-100k')\n",
        "ratings_path = os.path.join(base_dir,'u.data')\n",
        "movies_path = os.path.join(base_dir,'u.item')\n",
        "users_path = os.path.join(base_dir,'u.user')\n",
        "\n",
        "print(f\"Base directory: {base_dir}\")\n",
        "print(f\"Ratings file: {ratings_path}\")\n",
        "print(f\"Movies file: {movies_path}\")\n",
        "print(f\"Users file: {users_path}\")"
      ]
    },
    {
      "cell_type": "markdown",
      "id": "7f28efed",
      "metadata": {
        "id": "7f28efed"
      },
      "source": [
        "## Data preparations"
      ]
    },
    {
      "cell_type": "code",
      "execution_count": 129,
      "id": "3964a517",
      "metadata": {
        "colab": {
          "base_uri": "https://localhost:8080/"
        },
        "id": "3964a517",
        "outputId": "8208867d-702d-469d-ef05-f9f30239137e"
      },
      "outputs": [
        {
          "name": "stdout",
          "output_type": "stream",
          "text": [
            "Prepared Ratings Shape: (100000, 4)\n",
            "Prepared Movies Shape: (1682, 22)\n"
          ]
        }
      ],
      "source": [
        "genre_cols = [\n",
        "    \"unknown\",\"Action\",\"Adventure\",\"Animation\",\"Children's\",\"Comedy\",\"Crime\",\"Documentary\",\n",
        "    \"Drama\",\"Fantasy\",\"Film-Noir\",\"Horror\",\"Musical\",\"Mystery\",\"Romance\",\"Sci-Fi\",\"Thriller\",\"War\",\"Western\"\n",
        "]\n",
        "movie_cols = [\"movieId\",\"title\",\"release_date\",\"video_release_date\",\"IMDb_URL\"] + genre_cols\n",
        "\n",
        "movies = pd.read_csv(movies_path, sep=\"|\", encoding=\"latin-1\", header=None, names=movie_cols)\n",
        "\n",
        "ratings = pd.read_csv(ratings_path, sep=\"\\t\", names=[\"userId\",\"movieId\",\"rating\",\"timestamp\"])\n",
        "\n",
        "users = pd.read_csv(users_path, sep=\"|\", header=None, names=[\"userId\",\"age\",\"gender\",\"occupation\",\"zip_code\"])\n",
        "\n",
        "# Drop columns we don’t need\n",
        "movies = movies.drop([\"video_release_date\", \"IMDb_URL\"], axis=1)\n",
        "\n",
        "print(\"Prepared Ratings Shape:\", ratings.shape)\n",
        "print(\"Prepared Movies Shape:\", movies.shape)\n"
      ]
    },
    {
      "cell_type": "code",
      "execution_count": 130,
      "id": "21d3a3bc",
      "metadata": {
        "colab": {
          "base_uri": "https://localhost:8080/"
        },
        "id": "21d3a3bc",
        "outputId": "09c1d673-7637-4842-e492-b7f28ba71ac3"
      },
      "outputs": [
        {
          "name": "stdout",
          "output_type": "stream",
          "text": [
            "userId       0\n",
            "movieId      0\n",
            "rating       0\n",
            "timestamp    0\n",
            "dtype: int64\n",
            "movieId         0\n",
            "title           0\n",
            "release_date    1\n",
            "unknown         0\n",
            "Action          0\n",
            "Adventure       0\n",
            "Animation       0\n",
            "Children's      0\n",
            "Comedy          0\n",
            "Crime           0\n",
            "Documentary     0\n",
            "Drama           0\n",
            "Fantasy         0\n",
            "Film-Noir       0\n",
            "Horror          0\n",
            "Musical         0\n",
            "Mystery         0\n",
            "Romance         0\n",
            "Sci-Fi          0\n",
            "Thriller        0\n",
            "War             0\n",
            "Western         0\n",
            "dtype: int64\n"
          ]
        }
      ],
      "source": [
        "print(ratings.isnull().sum())\n",
        "print(movies.isnull().sum())"
      ]
    },
    {
      "cell_type": "code",
      "execution_count": 131,
      "id": "21fb9b01",
      "metadata": {
        "id": "21fb9b01"
      },
      "outputs": [],
      "source": [
        "def extract_year(title: str):\n",
        "    if not isinstance(title, str):\n",
        "        return np.nan\n",
        "    m = re.search(r\"\\((\\d{4})\\)\", title)\n",
        "    return int(m.group(1)) if m else np.nan"
      ]
    },
    {
      "cell_type": "code",
      "execution_count": 132,
      "id": "e3658ced",
      "metadata": {
        "colab": {
          "base_uri": "https://localhost:8080/",
          "height": 206
        },
        "id": "e3658ced",
        "outputId": "4dfa20c9-ac0d-4a6c-c6b1-1d3a1df978c6"
      },
      "outputs": [
        {
          "data": {
            "text/html": [
              "<div>\n",
              "<style scoped>\n",
              "    .dataframe tbody tr th:only-of-type {\n",
              "        vertical-align: middle;\n",
              "    }\n",
              "\n",
              "    .dataframe tbody tr th {\n",
              "        vertical-align: top;\n",
              "    }\n",
              "\n",
              "    .dataframe thead th {\n",
              "        text-align: right;\n",
              "    }\n",
              "</style>\n",
              "<table border=\"1\" class=\"dataframe\">\n",
              "  <thead>\n",
              "    <tr style=\"text-align: right;\">\n",
              "      <th></th>\n",
              "      <th>userId</th>\n",
              "      <th>movieId</th>\n",
              "      <th>rating</th>\n",
              "      <th>timestamp</th>\n",
              "    </tr>\n",
              "  </thead>\n",
              "  <tbody>\n",
              "    <tr>\n",
              "      <th>0</th>\n",
              "      <td>196</td>\n",
              "      <td>242</td>\n",
              "      <td>3</td>\n",
              "      <td>881250949</td>\n",
              "    </tr>\n",
              "    <tr>\n",
              "      <th>1</th>\n",
              "      <td>186</td>\n",
              "      <td>302</td>\n",
              "      <td>3</td>\n",
              "      <td>891717742</td>\n",
              "    </tr>\n",
              "    <tr>\n",
              "      <th>2</th>\n",
              "      <td>22</td>\n",
              "      <td>377</td>\n",
              "      <td>1</td>\n",
              "      <td>878887116</td>\n",
              "    </tr>\n",
              "    <tr>\n",
              "      <th>3</th>\n",
              "      <td>244</td>\n",
              "      <td>51</td>\n",
              "      <td>2</td>\n",
              "      <td>880606923</td>\n",
              "    </tr>\n",
              "    <tr>\n",
              "      <th>4</th>\n",
              "      <td>166</td>\n",
              "      <td>346</td>\n",
              "      <td>1</td>\n",
              "      <td>886397596</td>\n",
              "    </tr>\n",
              "  </tbody>\n",
              "</table>\n",
              "</div>"
            ],
            "text/plain": [
              "   userId  movieId  rating  timestamp\n",
              "0     196      242       3  881250949\n",
              "1     186      302       3  891717742\n",
              "2      22      377       1  878887116\n",
              "3     244       51       2  880606923\n",
              "4     166      346       1  886397596"
            ]
          },
          "execution_count": 132,
          "metadata": {},
          "output_type": "execute_result"
        }
      ],
      "source": [
        "ratings.head()"
      ]
    },
    {
      "cell_type": "code",
      "execution_count": 133,
      "id": "98bbae63",
      "metadata": {
        "colab": {
          "base_uri": "https://localhost:8080/",
          "height": 377
        },
        "id": "98bbae63",
        "outputId": "708a57a6-0cf6-4469-a024-7b0003a01ced"
      },
      "outputs": [
        {
          "data": {
            "text/html": [
              "<div>\n",
              "<style scoped>\n",
              "    .dataframe tbody tr th:only-of-type {\n",
              "        vertical-align: middle;\n",
              "    }\n",
              "\n",
              "    .dataframe tbody tr th {\n",
              "        vertical-align: top;\n",
              "    }\n",
              "\n",
              "    .dataframe thead th {\n",
              "        text-align: right;\n",
              "    }\n",
              "</style>\n",
              "<table border=\"1\" class=\"dataframe\">\n",
              "  <thead>\n",
              "    <tr style=\"text-align: right;\">\n",
              "      <th></th>\n",
              "      <th>movieId</th>\n",
              "      <th>title</th>\n",
              "      <th>release_date</th>\n",
              "      <th>unknown</th>\n",
              "      <th>Action</th>\n",
              "      <th>Adventure</th>\n",
              "      <th>Animation</th>\n",
              "      <th>Children's</th>\n",
              "      <th>Comedy</th>\n",
              "      <th>Crime</th>\n",
              "      <th>...</th>\n",
              "      <th>Fantasy</th>\n",
              "      <th>Film-Noir</th>\n",
              "      <th>Horror</th>\n",
              "      <th>Musical</th>\n",
              "      <th>Mystery</th>\n",
              "      <th>Romance</th>\n",
              "      <th>Sci-Fi</th>\n",
              "      <th>Thriller</th>\n",
              "      <th>War</th>\n",
              "      <th>Western</th>\n",
              "    </tr>\n",
              "  </thead>\n",
              "  <tbody>\n",
              "    <tr>\n",
              "      <th>0</th>\n",
              "      <td>1</td>\n",
              "      <td>Toy Story (1995)</td>\n",
              "      <td>01-Jan-1995</td>\n",
              "      <td>0</td>\n",
              "      <td>0</td>\n",
              "      <td>0</td>\n",
              "      <td>1</td>\n",
              "      <td>1</td>\n",
              "      <td>1</td>\n",
              "      <td>0</td>\n",
              "      <td>...</td>\n",
              "      <td>0</td>\n",
              "      <td>0</td>\n",
              "      <td>0</td>\n",
              "      <td>0</td>\n",
              "      <td>0</td>\n",
              "      <td>0</td>\n",
              "      <td>0</td>\n",
              "      <td>0</td>\n",
              "      <td>0</td>\n",
              "      <td>0</td>\n",
              "    </tr>\n",
              "    <tr>\n",
              "      <th>1</th>\n",
              "      <td>2</td>\n",
              "      <td>GoldenEye (1995)</td>\n",
              "      <td>01-Jan-1995</td>\n",
              "      <td>0</td>\n",
              "      <td>1</td>\n",
              "      <td>1</td>\n",
              "      <td>0</td>\n",
              "      <td>0</td>\n",
              "      <td>0</td>\n",
              "      <td>0</td>\n",
              "      <td>...</td>\n",
              "      <td>0</td>\n",
              "      <td>0</td>\n",
              "      <td>0</td>\n",
              "      <td>0</td>\n",
              "      <td>0</td>\n",
              "      <td>0</td>\n",
              "      <td>0</td>\n",
              "      <td>1</td>\n",
              "      <td>0</td>\n",
              "      <td>0</td>\n",
              "    </tr>\n",
              "    <tr>\n",
              "      <th>2</th>\n",
              "      <td>3</td>\n",
              "      <td>Four Rooms (1995)</td>\n",
              "      <td>01-Jan-1995</td>\n",
              "      <td>0</td>\n",
              "      <td>0</td>\n",
              "      <td>0</td>\n",
              "      <td>0</td>\n",
              "      <td>0</td>\n",
              "      <td>0</td>\n",
              "      <td>0</td>\n",
              "      <td>...</td>\n",
              "      <td>0</td>\n",
              "      <td>0</td>\n",
              "      <td>0</td>\n",
              "      <td>0</td>\n",
              "      <td>0</td>\n",
              "      <td>0</td>\n",
              "      <td>0</td>\n",
              "      <td>1</td>\n",
              "      <td>0</td>\n",
              "      <td>0</td>\n",
              "    </tr>\n",
              "    <tr>\n",
              "      <th>3</th>\n",
              "      <td>4</td>\n",
              "      <td>Get Shorty (1995)</td>\n",
              "      <td>01-Jan-1995</td>\n",
              "      <td>0</td>\n",
              "      <td>1</td>\n",
              "      <td>0</td>\n",
              "      <td>0</td>\n",
              "      <td>0</td>\n",
              "      <td>1</td>\n",
              "      <td>0</td>\n",
              "      <td>...</td>\n",
              "      <td>0</td>\n",
              "      <td>0</td>\n",
              "      <td>0</td>\n",
              "      <td>0</td>\n",
              "      <td>0</td>\n",
              "      <td>0</td>\n",
              "      <td>0</td>\n",
              "      <td>0</td>\n",
              "      <td>0</td>\n",
              "      <td>0</td>\n",
              "    </tr>\n",
              "    <tr>\n",
              "      <th>4</th>\n",
              "      <td>5</td>\n",
              "      <td>Copycat (1995)</td>\n",
              "      <td>01-Jan-1995</td>\n",
              "      <td>0</td>\n",
              "      <td>0</td>\n",
              "      <td>0</td>\n",
              "      <td>0</td>\n",
              "      <td>0</td>\n",
              "      <td>0</td>\n",
              "      <td>1</td>\n",
              "      <td>...</td>\n",
              "      <td>0</td>\n",
              "      <td>0</td>\n",
              "      <td>0</td>\n",
              "      <td>0</td>\n",
              "      <td>0</td>\n",
              "      <td>0</td>\n",
              "      <td>0</td>\n",
              "      <td>1</td>\n",
              "      <td>0</td>\n",
              "      <td>0</td>\n",
              "    </tr>\n",
              "  </tbody>\n",
              "</table>\n",
              "<p>5 rows × 22 columns</p>\n",
              "</div>"
            ],
            "text/plain": [
              "   movieId              title release_date  unknown  Action  Adventure  \\\n",
              "0        1   Toy Story (1995)  01-Jan-1995        0       0          0   \n",
              "1        2   GoldenEye (1995)  01-Jan-1995        0       1          1   \n",
              "2        3  Four Rooms (1995)  01-Jan-1995        0       0          0   \n",
              "3        4  Get Shorty (1995)  01-Jan-1995        0       1          0   \n",
              "4        5     Copycat (1995)  01-Jan-1995        0       0          0   \n",
              "\n",
              "   Animation  Children's  Comedy  Crime  ...  Fantasy  Film-Noir  Horror  \\\n",
              "0          1           1       1      0  ...        0          0       0   \n",
              "1          0           0       0      0  ...        0          0       0   \n",
              "2          0           0       0      0  ...        0          0       0   \n",
              "3          0           0       1      0  ...        0          0       0   \n",
              "4          0           0       0      1  ...        0          0       0   \n",
              "\n",
              "   Musical  Mystery  Romance  Sci-Fi  Thriller  War  Western  \n",
              "0        0        0        0       0         0    0        0  \n",
              "1        0        0        0       0         1    0        0  \n",
              "2        0        0        0       0         1    0        0  \n",
              "3        0        0        0       0         0    0        0  \n",
              "4        0        0        0       0         1    0        0  \n",
              "\n",
              "[5 rows x 22 columns]"
            ]
          },
          "execution_count": 133,
          "metadata": {},
          "output_type": "execute_result"
        }
      ],
      "source": [
        "movies.head()"
      ]
    },
    {
      "cell_type": "code",
      "execution_count": 134,
      "id": "797e6eaf",
      "metadata": {
        "id": "797e6eaf"
      },
      "outputs": [],
      "source": [
        "def row_genres(row):\n",
        "    g = [g for g in genre_cols if row[g] == 1]\n",
        "    return \"  \".join(g) if g else \"unknown\"\n",
        "\n"
      ]
    },
    {
      "cell_type": "code",
      "execution_count": 135,
      "id": "709ad17c",
      "metadata": {
        "colab": {
          "base_uri": "https://localhost:8080/",
          "height": 206
        },
        "id": "709ad17c",
        "outputId": "aefcf189-116b-4130-952b-3f6f19d2b1ca"
      },
      "outputs": [
        {
          "data": {
            "text/html": [
              "<div>\n",
              "<style scoped>\n",
              "    .dataframe tbody tr th:only-of-type {\n",
              "        vertical-align: middle;\n",
              "    }\n",
              "\n",
              "    .dataframe tbody tr th {\n",
              "        vertical-align: top;\n",
              "    }\n",
              "\n",
              "    .dataframe thead th {\n",
              "        text-align: right;\n",
              "    }\n",
              "</style>\n",
              "<table border=\"1\" class=\"dataframe\">\n",
              "  <thead>\n",
              "    <tr style=\"text-align: right;\">\n",
              "      <th></th>\n",
              "      <th>movieId</th>\n",
              "      <th>title</th>\n",
              "      <th>genres</th>\n",
              "      <th>year</th>\n",
              "    </tr>\n",
              "  </thead>\n",
              "  <tbody>\n",
              "    <tr>\n",
              "      <th>0</th>\n",
              "      <td>1</td>\n",
              "      <td>Toy Story</td>\n",
              "      <td>Animation  Children's  Comedy</td>\n",
              "      <td>1995.0</td>\n",
              "    </tr>\n",
              "    <tr>\n",
              "      <th>1</th>\n",
              "      <td>2</td>\n",
              "      <td>GoldenEye</td>\n",
              "      <td>Action  Adventure  Thriller</td>\n",
              "      <td>1995.0</td>\n",
              "    </tr>\n",
              "    <tr>\n",
              "      <th>2</th>\n",
              "      <td>3</td>\n",
              "      <td>Four Rooms</td>\n",
              "      <td>Thriller</td>\n",
              "      <td>1995.0</td>\n",
              "    </tr>\n",
              "    <tr>\n",
              "      <th>3</th>\n",
              "      <td>4</td>\n",
              "      <td>Get Shorty</td>\n",
              "      <td>Action  Comedy  Drama</td>\n",
              "      <td>1995.0</td>\n",
              "    </tr>\n",
              "    <tr>\n",
              "      <th>4</th>\n",
              "      <td>5</td>\n",
              "      <td>Copycat</td>\n",
              "      <td>Crime  Drama  Thriller</td>\n",
              "      <td>1995.0</td>\n",
              "    </tr>\n",
              "  </tbody>\n",
              "</table>\n",
              "</div>"
            ],
            "text/plain": [
              "   movieId       title                         genres    year\n",
              "0        1   Toy Story  Animation  Children's  Comedy  1995.0\n",
              "1        2   GoldenEye    Action  Adventure  Thriller  1995.0\n",
              "2        3  Four Rooms                       Thriller  1995.0\n",
              "3        4  Get Shorty          Action  Comedy  Drama  1995.0\n",
              "4        5     Copycat         Crime  Drama  Thriller  1995.0"
            ]
          },
          "execution_count": 135,
          "metadata": {},
          "output_type": "execute_result"
        }
      ],
      "source": [
        "movies[\"genres\"] = movies.apply(row_genres, axis=1)\n",
        "movies[\"year\"] = movies[\"title\"].apply(extract_year)\n",
        "\n",
        "# làm sạch title: bỏ \"(1995)\" nếu muốn\n",
        "movies[\"title_clean\"] = movies[\"title\"].str.replace(r\"\\s*\\(\\d{4}\\)\\s*$\", \"\", regex=True)\n",
        "\n",
        "# DataFrame đầu ra\n",
        "movies_df = movies[[\"movieId\", \"title_clean\", \"genres\", \"year\"]].rename(columns={\"title_clean\": \"title\"})\n",
        "movies_df.head()"
      ]
    },
    {
      "cell_type": "code",
      "execution_count": 136,
      "id": "b86a98d2",
      "metadata": {
        "colab": {
          "base_uri": "https://localhost:8080/"
        },
        "id": "b86a98d2",
        "outputId": "f5c836a3-ccdf-4f08-de28-9d419fd42feb"
      },
      "outputs": [
        {
          "name": "stdout",
          "output_type": "stream",
          "text": [
            "Saved: processed\\movies_preprocessed.csv\n",
            "Saved: processed\\ratings.csv\n",
            "Saved: processed\\users.csv\n"
          ]
        }
      ],
      "source": [
        "# Create processed directory in the current working directory\n",
        "out_dir = \"processed\"\n",
        "os.makedirs(out_dir, exist_ok=True)\n",
        "\n",
        "movies_csv = os.path.join(out_dir, \"movies_preprocessed.csv\")\n",
        "ratings_csv = os.path.join(out_dir, \"ratings.csv\")\n",
        "users_csv = os.path.join(out_dir, \"users.csv\")\n",
        "\n",
        "movies_df.to_csv(movies_csv, index=False, encoding=\"utf-8\")\n",
        "ratings.to_csv(ratings_csv, index=False)\n",
        "users.to_csv(users_csv, index=False)\n",
        "print(\"Saved:\", movies_csv)\n",
        "print(\"Saved:\", ratings_csv)\n",
        "print(\"Saved:\", users_csv)"
      ]
    },
    {
      "cell_type": "code",
      "execution_count": 137,
      "id": "a87a4387",
      "metadata": {
        "colab": {
          "base_uri": "https://localhost:8080/",
          "height": 144
        },
        "id": "a87a4387",
        "outputId": "18104cf6-f051-470f-b331-418d45b472d9"
      },
      "outputs": [
        {
          "data": {
            "text/html": [
              "<div>\n",
              "<style scoped>\n",
              "    .dataframe tbody tr th:only-of-type {\n",
              "        vertical-align: middle;\n",
              "    }\n",
              "\n",
              "    .dataframe tbody tr th {\n",
              "        vertical-align: top;\n",
              "    }\n",
              "\n",
              "    .dataframe thead th {\n",
              "        text-align: right;\n",
              "    }\n",
              "</style>\n",
              "<table border=\"1\" class=\"dataframe\">\n",
              "  <thead>\n",
              "    <tr style=\"text-align: right;\">\n",
              "      <th></th>\n",
              "      <th>movieId</th>\n",
              "      <th>title</th>\n",
              "      <th>genres</th>\n",
              "      <th>year</th>\n",
              "    </tr>\n",
              "  </thead>\n",
              "  <tbody>\n",
              "    <tr>\n",
              "      <th>0</th>\n",
              "      <td>1</td>\n",
              "      <td>Toy Story</td>\n",
              "      <td>Animation  Children's  Comedy</td>\n",
              "      <td>1995.0</td>\n",
              "    </tr>\n",
              "  </tbody>\n",
              "</table>\n",
              "</div>"
            ],
            "text/plain": [
              "   movieId      title                         genres    year\n",
              "0        1  Toy Story  Animation  Children's  Comedy  1995.0"
            ]
          },
          "metadata": {},
          "output_type": "display_data"
        },
        {
          "data": {
            "text/html": [
              "<div>\n",
              "<style scoped>\n",
              "    .dataframe tbody tr th:only-of-type {\n",
              "        vertical-align: middle;\n",
              "    }\n",
              "\n",
              "    .dataframe tbody tr th {\n",
              "        vertical-align: top;\n",
              "    }\n",
              "\n",
              "    .dataframe thead th {\n",
              "        text-align: right;\n",
              "    }\n",
              "</style>\n",
              "<table border=\"1\" class=\"dataframe\">\n",
              "  <thead>\n",
              "    <tr style=\"text-align: right;\">\n",
              "      <th></th>\n",
              "      <th>movieId</th>\n",
              "      <th>title</th>\n",
              "      <th>genres</th>\n",
              "      <th>year</th>\n",
              "    </tr>\n",
              "  </thead>\n",
              "  <tbody>\n",
              "    <tr>\n",
              "      <th>0</th>\n",
              "      <td>1</td>\n",
              "      <td>Toy Story</td>\n",
              "      <td>Animation  Children's  Comedy</td>\n",
              "      <td>1995.0</td>\n",
              "    </tr>\n",
              "  </tbody>\n",
              "</table>\n",
              "</div>"
            ],
            "text/plain": [
              "   movieId      title                         genres    year\n",
              "0        1  Toy Story  Animation  Children's  Comedy  1995.0"
            ]
          },
          "metadata": {},
          "output_type": "display_data"
        }
      ],
      "source": [
        "#lấy dữ liệu phim theo id / tìm theo tên\n",
        "def get_movie_data(movie_id: int):\n",
        "    return movies_df[movies_df[\"movieId\"] == movie_id].reset_index(drop=True)\n",
        "\n",
        "def search_movie_by_title(q: str, top_n: int = 10):\n",
        "    q_norm = q.strip().lower()\n",
        "    m = movies_df[movies_df[\"title\"].str.lower().str.contains(q_norm, na=False)]\n",
        "    return m.head(top_n).reset_index(drop=True)\n",
        "\n",
        "\n",
        "display(search_movie_by_title(\"Toy Story\"))\n",
        "display(get_movie_data(1))"
      ]
    },
    {
      "cell_type": "code",
      "execution_count": 138,
      "id": "P2O6mtZ6fp6D",
      "metadata": {
        "id": "P2O6mtZ6fp6D"
      },
      "outputs": [],
      "source": [
        "from sklearn.feature_extraction.text import TfidfVectorizer\n",
        "from sklearn.metrics.pairwise import cosine_similarity"
      ]
    },
    {
      "cell_type": "code",
      "execution_count": 139,
      "id": "2d6c26b9",
      "metadata": {
        "colab": {
          "base_uri": "https://localhost:8080/",
          "height": 206
        },
        "id": "2d6c26b9",
        "outputId": "7fa36036-f88d-4994-d7d8-18f4eb87a762"
      },
      "outputs": [
        {
          "data": {
            "text/html": [
              "<div>\n",
              "<style scoped>\n",
              "    .dataframe tbody tr th:only-of-type {\n",
              "        vertical-align: middle;\n",
              "    }\n",
              "\n",
              "    .dataframe tbody tr th {\n",
              "        vertical-align: top;\n",
              "    }\n",
              "\n",
              "    .dataframe thead th {\n",
              "        text-align: right;\n",
              "    }\n",
              "</style>\n",
              "<table border=\"1\" class=\"dataframe\">\n",
              "  <thead>\n",
              "    <tr style=\"text-align: right;\">\n",
              "      <th></th>\n",
              "      <th>title_clean</th>\n",
              "      <th>genres</th>\n",
              "    </tr>\n",
              "  </thead>\n",
              "  <tbody>\n",
              "    <tr>\n",
              "      <th>1677</th>\n",
              "      <td>Mat' i syn</td>\n",
              "      <td>Drama</td>\n",
              "    </tr>\n",
              "    <tr>\n",
              "      <th>1678</th>\n",
              "      <td>B. Monkey</td>\n",
              "      <td>Romance  Thriller</td>\n",
              "    </tr>\n",
              "    <tr>\n",
              "      <th>1679</th>\n",
              "      <td>Sliding Doors</td>\n",
              "      <td>Drama  Romance</td>\n",
              "    </tr>\n",
              "    <tr>\n",
              "      <th>1680</th>\n",
              "      <td>You So Crazy</td>\n",
              "      <td>Comedy</td>\n",
              "    </tr>\n",
              "    <tr>\n",
              "      <th>1681</th>\n",
              "      <td>Scream of Stone (Schrei aus Stein)</td>\n",
              "      <td>Drama</td>\n",
              "    </tr>\n",
              "  </tbody>\n",
              "</table>\n",
              "</div>"
            ],
            "text/plain": [
              "                             title_clean             genres\n",
              "1677                          Mat' i syn              Drama\n",
              "1678                           B. Monkey  Romance  Thriller\n",
              "1679                       Sliding Doors     Drama  Romance\n",
              "1680                        You So Crazy             Comedy\n",
              "1681  Scream of Stone (Schrei aus Stein)              Drama"
            ]
          },
          "execution_count": 139,
          "metadata": {},
          "output_type": "execute_result"
        }
      ],
      "source": [
        "movies[['title_clean', 'genres']].tail()"
      ]
    },
    {
      "cell_type": "code",
      "execution_count": 140,
      "id": "1i3VEn-_hFOv",
      "metadata": {
        "colab": {
          "base_uri": "https://localhost:8080/"
        },
        "id": "1i3VEn-_hFOv",
        "outputId": "08379680-0529-4488-c24d-fe72db436268"
      },
      "outputs": [
        {
          "name": "stdout",
          "output_type": "stream",
          "text": [
            "Kích thước ma trận TF-IDF: (1682, 21)\n"
          ]
        }
      ],
      "source": [
        "# Dùng TF-IDF để biến thể loại thành vector\n",
        "tfidf = TfidfVectorizer(stop_words='english')\n",
        "tfidf_matrix = tfidf.fit_transform(movies['genres'])\n",
        "\n",
        "print(\"Kích thước ma trận TF-IDF:\", tfidf_matrix.shape)\n"
      ]
    },
    {
      "cell_type": "code",
      "execution_count": 141,
      "id": "UJlS4dUZhFov",
      "metadata": {
        "colab": {
          "base_uri": "https://localhost:8080/"
        },
        "id": "UJlS4dUZhFov",
        "outputId": "1bdcbd7d-27d2-4d7e-b877-bba879afa309"
      },
      "outputs": [
        {
          "name": "stdout",
          "output_type": "stream",
          "text": [
            "Kích thước ma trận similarity: (1682, 1682)\n"
          ]
        }
      ],
      "source": [
        "# Ma trận cosine similarity giữa các phim\n",
        "cosine_sim = cosine_similarity(tfidf_matrix, tfidf_matrix)\n",
        "print(\"Kích thước ma trận similarity:\", cosine_sim.shape)\n"
      ]
    },
    {
      "cell_type": "code",
      "execution_count": null,
      "id": "tOEMe0fYhILc",
      "metadata": {
        "id": "tOEMe0fYhILc"
      },
      "outputs": [],
      "source": [
        "def recommend(title, top_n=10):\n",
        "    # Mapping từ tên phim sang index\n",
        "    indices = pd.Series(movies.index, index=movies['title_clean']).drop_duplicates()\n",
        "\n",
        "    if title not in indices:\n",
        "        return f\"Phim '{title}' không có trong dataset.\"\n",
        "\n",
        "    idx = indices[title]\n",
        "    sim_scores = list(enumerate(cosine_sim[idx]))\n",
        "    sim_scores = sorted(sim_scores, key=lambda x: x[1], reverse=True)\n",
        "    sim_scores = sim_scores[1:top_n+1]  # Bỏ chính nó\n",
        "    movie_indices = [i[0] for i in sim_scores]\n",
        "\n",
        "    return movies.iloc[movie_indices][['title_clean', 'genres']]\n"
      ]
    },
    {
      "cell_type": "code",
      "execution_count": null,
      "id": "58Y3wiVbhKQQ",
      "metadata": {
        "colab": {
          "base_uri": "https://localhost:8080/",
          "height": 206
        },
        "id": "58Y3wiVbhKQQ",
        "outputId": "7774932a-c5f4-4447-ae23-3bdc465c5463"
      },
      "outputs": [
        {
          "data": {
            "text/html": [
              "<div>\n",
              "<style scoped>\n",
              "    .dataframe tbody tr th:only-of-type {\n",
              "        vertical-align: middle;\n",
              "    }\n",
              "\n",
              "    .dataframe tbody tr th {\n",
              "        vertical-align: top;\n",
              "    }\n",
              "\n",
              "    .dataframe thead th {\n",
              "        text-align: right;\n",
              "    }\n",
              "</style>\n",
              "<table border=\"1\" class=\"dataframe\">\n",
              "  <thead>\n",
              "    <tr style=\"text-align: right;\">\n",
              "      <th></th>\n",
              "      <th>title</th>\n",
              "      <th>genres</th>\n",
              "    </tr>\n",
              "  </thead>\n",
              "  <tbody>\n",
              "    <tr>\n",
              "      <th>421</th>\n",
              "      <td>Aladdin and the King of Thieves (1996)</td>\n",
              "      <td>Animation  Children's  Comedy</td>\n",
              "    </tr>\n",
              "    <tr>\n",
              "      <th>101</th>\n",
              "      <td>Aristocats, The (1970)</td>\n",
              "      <td>Animation  Children's</td>\n",
              "    </tr>\n",
              "    <tr>\n",
              "      <th>403</th>\n",
              "      <td>Pinocchio (1940)</td>\n",
              "      <td>Animation  Children's</td>\n",
              "    </tr>\n",
              "    <tr>\n",
              "      <th>624</th>\n",
              "      <td>Sword in the Stone, The (1963)</td>\n",
              "      <td>Animation  Children's</td>\n",
              "    </tr>\n",
              "    <tr>\n",
              "      <th>945</th>\n",
              "      <td>Fox and the Hound, The (1981)</td>\n",
              "      <td>Animation  Children's</td>\n",
              "    </tr>\n",
              "  </tbody>\n",
              "</table>\n",
              "</div>"
            ],
            "text/plain": [
              "                                      title                         genres\n",
              "421  Aladdin and the King of Thieves (1996)  Animation  Children's  Comedy\n",
              "101                  Aristocats, The (1970)          Animation  Children's\n",
              "403                        Pinocchio (1940)          Animation  Children's\n",
              "624          Sword in the Stone, The (1963)          Animation  Children's\n",
              "945           Fox and the Hound, The (1981)          Animation  Children's"
            ]
          },
          "execution_count": 146,
          "metadata": {},
          "output_type": "execute_result"
        }
      ],
      "source": [
        "# Thử gợi ý phim tương tự \"Toy Story (1995)\"\n",
        "recommend(\"Toy Story\", top_n=5)\n"
      ]
    },
    {
      "cell_type": "code",
      "execution_count": null,
      "id": "7fJ_gNo3hMgA",
      "metadata": {
        "id": "7fJ_gNo3hMgA"
      },
      "outputs": [],
      "source": []
    }
  ],
  "metadata": {
    "colab": {
      "provenance": []
    },
    "kernelspec": {
      "display_name": "Python 3",
      "language": "python",
      "name": "python3"
    },
    "language_info": {
      "codemirror_mode": {
        "name": "ipython",
        "version": 3
      },
      "file_extension": ".py",
      "mimetype": "text/x-python",
      "name": "python",
      "nbconvert_exporter": "python",
      "pygments_lexer": "ipython3",
      "version": "3.11.9"
    }
  },
  "nbformat": 4,
  "nbformat_minor": 5
}
